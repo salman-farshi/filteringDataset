{
  "nbformat": 4,
  "nbformat_minor": 0,
  "metadata": {
    "colab": {
      "name": "Dataset_filtering_git.ipynb",
      "provenance": [],
      "collapsed_sections": [],
      "toc_visible": true,
      "include_colab_link": true
    },
    "kernelspec": {
      "name": "python3",
      "display_name": "Python 3"
    }
  },
  "cells": [
    {
      "cell_type": "markdown",
      "metadata": {
        "id": "view-in-github",
        "colab_type": "text"
      },
      "source": [
        "<a href=\"https://colab.research.google.com/github/salman-farshi/filteringDataset/blob/main/Dataset_filtering_git.ipynb\" target=\"_parent\"><img src=\"https://colab.research.google.com/assets/colab-badge.svg\" alt=\"Open In Colab\"/></a>"
      ]
    },
    {
      "cell_type": "markdown",
      "metadata": {
        "id": "037DfgLLklR_"
      },
      "source": [
        "#Problem\r\n",
        "\r\n",
        "---\r\n",
        "##DataSet Description\r\n",
        "We may have various types of data with ***Timestamp*** colume.  \r\n",
        "For Example:  \r\n",
        "\r\n",
        "##Problem Description  \r\n",
        "We need to filter the input dataset based on Year/Month/Day/Hour/Min/Second."
      ]
    },
    {
      "cell_type": "markdown",
      "metadata": {
        "id": "nXTjYpQJlZf7"
      },
      "source": [
        "#Solution"
      ]
    },
    {
      "cell_type": "markdown",
      "metadata": {
        "id": "X2BQgvI9x9v1"
      },
      "source": [
        "Importing all the necessary modules"
      ]
    },
    {
      "cell_type": "code",
      "metadata": {
        "id": "AHTtfhRRRuSE"
      },
      "source": [
        "import pandas as pd\r\n"
      ],
      "execution_count": null,
      "outputs": []
    },
    {
      "cell_type": "markdown",
      "metadata": {
        "id": "UE1_vNvKGcNE"
      },
      "source": [
        "Reading CSV file and printing the dataset"
      ]
    },
    {
      "cell_type": "code",
      "metadata": {
        "colab": {
          "base_uri": "https://localhost:8080/"
        },
        "id": "uS01BVk1Ukwf",
        "outputId": "47226ead-bc4f-479e-93ff-752481304349"
      },
      "source": [
        "data=pd.read_csv(\"https://raw.githubusercontent.com/salman-farshi/filteringDataset/main/ML%20datasheet%20-%20Form%20responses%201.csv\", sep=\",\")\r\n",
        "#data.head()    #to see the imported file \r\n",
        "\r\n",
        "print(data.head(8))"
      ],
      "execution_count": null,
      "outputs": [
        {
          "output_type": "stream",
          "text": [
            "             Timestamp       Name  Gender    Location\n",
            "0  06/12/2020 08:30:34     Salman       M      Bremen\n",
            "1  28/02/2021 21:05:07     Farshi       M     Germany\n",
            "2  06/05/2020 01:48:23    Manisha       F  Bangladesh\n",
            "3  12/12/2019 05:56:41      Mamun    Male      Bremen\n",
            "4  26/07/2020 12:36:54  Chowdhury  Female         NaN\n",
            "5  11/01/2021 15:15:09    Shohagh    male         NaN\n",
            "6  21/11/2018 03:22:23       Sady    Male  Dhamoirhat\n",
            "7  23/10/2020 17:37:35      Nihad    male    Rajshahi\n"
          ],
          "name": "stdout"
        }
      ]
    },
    {
      "cell_type": "markdown",
      "metadata": {
        "id": "Gk0ibE7BymSx"
      },
      "source": [
        ""
      ]
    },
    {
      "cell_type": "code",
      "metadata": {
        "colab": {
          "base_uri": "https://localhost:8080/"
        },
        "id": "6pCK5VQVHdMp",
        "outputId": "f3d3a503-0e2d-4c40-e5e4-55bc45ec6b1b"
      },
      "source": [
        "pd_time_format=pd.to_datetime(data.Timestamp, dayfirst=True) #coverting user timestamp to pandas timestamp format\r\n",
        "print(pd_time_format)"
      ],
      "execution_count": null,
      "outputs": [
        {
          "output_type": "stream",
          "text": [
            "0   2020-12-06 08:30:34\n",
            "1   2021-02-28 21:05:07\n",
            "2   2020-05-06 01:48:23\n",
            "3   2019-12-12 05:56:41\n",
            "4   2020-07-26 12:36:54\n",
            "5   2021-01-11 15:15:09\n",
            "6   2018-11-21 03:22:23\n",
            "7   2020-10-23 17:37:35\n",
            "Name: Timestamp, dtype: datetime64[ns]\n"
          ],
          "name": "stdout"
        }
      ]
    },
    {
      "cell_type": "markdown",
      "metadata": {
        "id": "bM6AKPUx50jn"
      },
      "source": [
        "Printing Years, Months, Days etc."
      ]
    },
    {
      "cell_type": "code",
      "metadata": {
        "colab": {
          "base_uri": "https://localhost:8080/"
        },
        "id": "NepGu7XDRuFp",
        "outputId": "79c6f072-73e8-44b6-f9fd-4ec5887c3409"
      },
      "source": [
        "print(pd_time_format.dt.year,'\\t')\r\n",
        "print(pd_time_format.dt.month, '\\t')\r\n",
        "print(pd_time_format.dt.day, '\\t')\r\n",
        "print(pd_time_format.dt.hour, '\\t')\r\n",
        "print(pd_time_format.dt.minute, '\\t')\r\n",
        "print(pd_time_format.dt.second, '\\n')"
      ],
      "execution_count": null,
      "outputs": [
        {
          "output_type": "stream",
          "text": [
            "0    2020\n",
            "1    2021\n",
            "2    2020\n",
            "3    2019\n",
            "4    2020\n",
            "5    2021\n",
            "6    2018\n",
            "7    2020\n",
            "Name: Timestamp, dtype: int64 \t\n",
            "0    12\n",
            "1     2\n",
            "2     5\n",
            "3    12\n",
            "4     7\n",
            "5     1\n",
            "6    11\n",
            "7    10\n",
            "Name: Timestamp, dtype: int64 \t\n",
            "0     6\n",
            "1    28\n",
            "2     6\n",
            "3    12\n",
            "4    26\n",
            "5    11\n",
            "6    21\n",
            "7    23\n",
            "Name: Timestamp, dtype: int64 \t\n",
            "0     8\n",
            "1    21\n",
            "2     1\n",
            "3     5\n",
            "4    12\n",
            "5    15\n",
            "6     3\n",
            "7    17\n",
            "Name: Timestamp, dtype: int64 \t\n",
            "0    30\n",
            "1     5\n",
            "2    48\n",
            "3    56\n",
            "4    36\n",
            "5    15\n",
            "6    22\n",
            "7    37\n",
            "Name: Timestamp, dtype: int64 \t\n",
            "0    34\n",
            "1     7\n",
            "2    23\n",
            "3    41\n",
            "4    54\n",
            "5     9\n",
            "6    23\n",
            "7    35\n",
            "Name: Timestamp, dtype: int64 \n",
            "\n"
          ],
          "name": "stdout"
        }
      ]
    },
    {
      "cell_type": "markdown",
      "metadata": {
        "id": "GWq6ellP4Hld"
      },
      "source": [
        "Finding the day name"
      ]
    },
    {
      "cell_type": "code",
      "metadata": {
        "colab": {
          "base_uri": "https://localhost:8080/",
          "height": 35
        },
        "id": "ASSIdnTJUqVV",
        "outputId": "44c6d58a-cd1d-4618-afc9-d8ad7a3d5db0"
      },
      "source": [
        "pd_time_format[0].day_name()"
      ],
      "execution_count": null,
      "outputs": [
        {
          "output_type": "execute_result",
          "data": {
            "application/vnd.google.colaboratory.intrinsic+json": {
              "type": "string"
            },
            "text/plain": [
              "'Sunday'"
            ]
          },
          "metadata": {
            "tags": []
          },
          "execution_count": 193
        }
      ]
    },
    {
      "cell_type": "markdown",
      "metadata": {
        "id": "rc3--cd_jj0c"
      },
      "source": [
        "##Filter Datasheet\r\n",
        "Useful links\r\n",
        "* [Filter example](https://cmdlinetips.com/2018/02/how-to-subset-pandas-dataframe-based-on-values-of-a-column/)\r\n",
        "* [Pandas DataFrame](https://pandas.pydata.org/pandas-docs/stable/reference/api/pandas.DataFrame.filter.html)"
      ]
    },
    {
      "cell_type": "code",
      "metadata": {
        "colab": {
          "base_uri": "https://localhost:8080/"
        },
        "id": "IflzRGPzZt4E",
        "outputId": "0e4b163f-e984-4e13-b026-ea3cda27dd78"
      },
      "source": [
        "is_year=pd_time_format.dt.year==2020\r\n",
        "is_month=pd_time_format.dt.month.eq(12)\r\n",
        "is_day=pd_time_format.dt.day==6\r\n",
        "is_hour=pd_time_format.dt.hour.eq(8)\r\n",
        "is_minute=pd_time_format.dt.minute.eq(30)\r\n",
        "#pd.to_datetime(data.Timestamp).dt.month==6\r\n",
        "abc=data[is_day & is_year & is_month]\r\n",
        "print(abc)\r\n"
      ],
      "execution_count": null,
      "outputs": [
        {
          "output_type": "stream",
          "text": [
            "             Timestamp    Name Gender Location\n",
            "0  06/12/2020 08:30:34  Salman      M   Bremen\n"
          ],
          "name": "stdout"
        }
      ]
    }
  ]
}